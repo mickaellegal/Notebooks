{
 "metadata": {
  "name": ""
 },
 "nbformat": 3,
 "nbformat_minor": 0,
 "worksheets": [
  {
   "cells": [
    {
     "cell_type": "code",
     "collapsed": false,
     "input": [
      "# Loading the libraries\n",
      "import pandas as pd\n",
      "import numpy as np\n",
      "import time\n",
      "import datetime"
     ],
     "language": "python",
     "metadata": {},
     "outputs": [],
     "prompt_number": 2
    },
    {
     "cell_type": "heading",
     "level": 2,
     "metadata": {},
     "source": [
      "Table of contents"
     ]
    },
    {
     "cell_type": "markdown",
     "metadata": {},
     "source": [
      "----------------------------------------------------------------------------------------------------\n",
      "**Python**\n",
      "\n",
      "1. [Converting strings to datetime objects](http://127.0.0.1:8888/e6c24050-5a65-4c4f-b7c6-c10564b7013d#1.-Converting-strings-to-datetime-objects)\n",
      "2. [Converting datetime objects to a string](http://127.0.0.1:8888/e6c24050-5a65-4c4f-b7c6-c10564b7013d#2.-Converting-a-datetime-object-to-a-string)\n",
      "\n",
      "**Pandas**\n",
      "\n",
      "1. [Timestamps](http://127.0.0.1:8888/e6c24050-5a65-4c4f-b7c6-c10564b7013d#1.-Timestamps)\n",
      "2. [Time spans](http://127.0.0.1:8888/e6c24050-5a65-4c4f-b7c6-c10564b7013d#2.-Time-spans)\n",
      "3. [Converting dates](http://127.0.0.1:8888/e6c24050-5a65-4c4f-b7c6-c10564b7013d#3.-Converting-dates)\n",
      "4. [Indexing converted dates](http://127.0.0.1:8888/e6c24050-5a65-4c4f-b7c6-c10564b7013d#4.-Indexing-dates-from-converted-data)\n",
      "5. [Generating dates](http://127.0.0.1:8888/e6c24050-5a65-4c4f-b7c6-c10564b7013d#5.-Generating-data)\n",
      "6. [Indexing generated dates](http://127.0.0.1:8888/e6c24050-5a65-4c4f-b7c6-c10564b7013d#6.-Indexing-dates-from-generated-data)\n",
      "7. [Selecting dates]()\n",
      "----------------------------------------------------------------------------------------------------"
     ]
    },
    {
     "cell_type": "heading",
     "level": 2,
     "metadata": {},
     "source": [
      "Python: Date Time"
     ]
    },
    {
     "cell_type": "heading",
     "level": 3,
     "metadata": {},
     "source": [
      "1. Converting strings to datetime objects"
     ]
    },
    {
     "cell_type": "markdown",
     "metadata": {},
     "source": [
      "The best way to understand how to handle dates with Python is to use an example. Here we will use a very small dataset with only 10 observations. The first column shows the date and the second shows the temperature in celsius degrees for that day.  "
     ]
    },
    {
     "cell_type": "code",
     "collapsed": false,
     "input": [
      "# Loading the dataset \n",
      "data = pd.read_csv('parse_date.csv', sep=',')\n",
      "\n",
      "# Show the head - this is actually the entire data set. \n",
      "data.head(10)"
     ],
     "language": "python",
     "metadata": {},
     "outputs": [
      {
       "html": [
        "<div style=\"max-height:1000px;max-width:1500px;overflow:auto;\">\n",
        "<table border=\"1\" class=\"dataframe\">\n",
        "  <thead>\n",
        "    <tr style=\"text-align: right;\">\n",
        "      <th></th>\n",
        "      <th>date</th>\n",
        "      <th>temperature</th>\n",
        "    </tr>\n",
        "  </thead>\n",
        "  <tbody>\n",
        "    <tr>\n",
        "      <th>0</th>\n",
        "      <td> 01/01/2013</td>\n",
        "      <td>  4</td>\n",
        "    </tr>\n",
        "    <tr>\n",
        "      <th>1</th>\n",
        "      <td> 02/01/2013</td>\n",
        "      <td>  0</td>\n",
        "    </tr>\n",
        "    <tr>\n",
        "      <th>2</th>\n",
        "      <td> 03/01/2013</td>\n",
        "      <td>  5</td>\n",
        "    </tr>\n",
        "    <tr>\n",
        "      <th>3</th>\n",
        "      <td> 04/01/2013</td>\n",
        "      <td>  7</td>\n",
        "    </tr>\n",
        "    <tr>\n",
        "      <th>4</th>\n",
        "      <td> 05/01/2013</td>\n",
        "      <td>  3</td>\n",
        "    </tr>\n",
        "    <tr>\n",
        "      <th>5</th>\n",
        "      <td> 06/01/2013</td>\n",
        "      <td>  1</td>\n",
        "    </tr>\n",
        "    <tr>\n",
        "      <th>6</th>\n",
        "      <td> 07/01/2013</td>\n",
        "      <td>  6</td>\n",
        "    </tr>\n",
        "    <tr>\n",
        "      <th>7</th>\n",
        "      <td> 08/01/2013</td>\n",
        "      <td> 10</td>\n",
        "    </tr>\n",
        "    <tr>\n",
        "      <th>8</th>\n",
        "      <td> 09/01/2013</td>\n",
        "      <td>  4</td>\n",
        "    </tr>\n",
        "    <tr>\n",
        "      <th>9</th>\n",
        "      <td> 10/01/2013</td>\n",
        "      <td> -1</td>\n",
        "    </tr>\n",
        "  </tbody>\n",
        "</table>\n",
        "</div>"
       ],
       "metadata": {},
       "output_type": "pyout",
       "prompt_number": 32,
       "text": [
        "         date  temperature\n",
        "0  01/01/2013            4\n",
        "1  02/01/2013            0\n",
        "2  03/01/2013            5\n",
        "3  04/01/2013            7\n",
        "4  05/01/2013            3\n",
        "5  06/01/2013            1\n",
        "6  07/01/2013            6\n",
        "7  08/01/2013           10\n",
        "8  09/01/2013            4\n",
        "9  10/01/2013           -1"
       ]
      }
     ],
     "prompt_number": 32
    },
    {
     "cell_type": "code",
     "collapsed": false,
     "input": [
      "# Selecting the cell on the first row and the first column\n",
      "print data.iloc[0,0]\n",
      "# Printing the type of this cell\n",
      "type(data.iloc[0,0])"
     ],
     "language": "python",
     "metadata": {},
     "outputs": [
      {
       "output_type": "stream",
       "stream": "stdout",
       "text": [
        "01/01/2013\n"
       ]
      },
      {
       "metadata": {},
       "output_type": "pyout",
       "prompt_number": 36,
       "text": [
        "str"
       ]
      }
     ],
     "prompt_number": 36
    },
    {
     "cell_type": "markdown",
     "metadata": {},
     "source": [
      "We see here that when loaded into our dataframe, the values in the 'date' column are considered as strings and not as real dates. The first step to take is therefore to convert these strings into datetime objects that we can easily manipulate. Fortunately, Python has the very useful ***strptime(data, format)*** method that does exactly what we want. Let's see how this works. Note that the **strptime()** method is part of the ***datetime class*** of the ***datetime module***, hence the *datetime.datetime.strptime()*.  "
     ]
    },
    {
     "cell_type": "code",
     "collapsed": false,
     "input": [
      "# Let's take only one date value in our table and convert it into a datatime object\n",
      "date = datetime.datetime.strptime(data.iloc[0,0],'%d/%m/%Y').date()\n",
      "\n",
      "# Print the new datetime object\n",
      "print date \n",
      "# Check the type of the converted value\n",
      "print type(date)"
     ],
     "language": "python",
     "metadata": {},
     "outputs": [
      {
       "output_type": "stream",
       "stream": "stdout",
       "text": [
        "2013-01-01\n",
        "<type 'datetime.date'>\n"
       ]
      }
     ],
     "prompt_number": 9
    },
    {
     "cell_type": "markdown",
     "metadata": {},
     "source": [
      "Success! Our string is now a datetime object that we can format it as we wish. Now let's convert all the date strings into datetime objects. "
     ]
    },
    {
     "cell_type": "code",
     "collapsed": false,
     "input": [
      "# Create a function that will transform all the strings into dates.\n",
      "def parse_date(raw_date):\n",
      "    return datetime.datetime.strptime(raw_date, '%d/%m/%Y').date()"
     ],
     "language": "python",
     "metadata": {},
     "outputs": [],
     "prompt_number": 12
    },
    {
     "cell_type": "code",
     "collapsed": false,
     "input": [
      "# Let's apply our format to all the dates in our DataFrame\n",
      "data['date'] = data['date'].map(parse_date)"
     ],
     "language": "python",
     "metadata": {},
     "outputs": [],
     "prompt_number": 13
    },
    {
     "cell_type": "markdown",
     "metadata": {},
     "source": [
      "**Word of caution**: Whenever you define your function, make sure that the date format you specify in the *strptime()* method is the same as the one in the date string. In our case, the string ('01/01/2013') has the following format: it starts with the day of the month ***%d*** ('01'), followed by a '/', followed by the month ***%m*** (01), another '/' and ends up with the full year ***%Y*** (2013).\n",
      "\n",
      "To learn more about the different formats, check this [link](http://docs.python.org/2/library/datetime.html#strftime-and-strptime-behavior)."
     ]
    },
    {
     "cell_type": "code",
     "collapsed": false,
     "input": [
      "# Let's have a look at the whold dataset\n",
      "data.head()"
     ],
     "language": "python",
     "metadata": {},
     "outputs": [
      {
       "html": [
        "<div style=\"max-height:1000px;max-width:1500px;overflow:auto;\">\n",
        "<table border=\"1\" class=\"dataframe\">\n",
        "  <thead>\n",
        "    <tr style=\"text-align: right;\">\n",
        "      <th></th>\n",
        "      <th>date</th>\n",
        "      <th>temperature</th>\n",
        "    </tr>\n",
        "  </thead>\n",
        "  <tbody>\n",
        "    <tr>\n",
        "      <th>0</th>\n",
        "      <td> 2013-01-01</td>\n",
        "      <td> 4</td>\n",
        "    </tr>\n",
        "    <tr>\n",
        "      <th>1</th>\n",
        "      <td> 2013-01-02</td>\n",
        "      <td> 0</td>\n",
        "    </tr>\n",
        "    <tr>\n",
        "      <th>2</th>\n",
        "      <td> 2013-01-03</td>\n",
        "      <td> 5</td>\n",
        "    </tr>\n",
        "    <tr>\n",
        "      <th>3</th>\n",
        "      <td> 2013-01-04</td>\n",
        "      <td> 7</td>\n",
        "    </tr>\n",
        "    <tr>\n",
        "      <th>4</th>\n",
        "      <td> 2013-01-05</td>\n",
        "      <td> 3</td>\n",
        "    </tr>\n",
        "  </tbody>\n",
        "</table>\n",
        "</div>"
       ],
       "metadata": {},
       "output_type": "pyout",
       "prompt_number": 14,
       "text": [
        "         date  temperature\n",
        "0  2013-01-01            4\n",
        "1  2013-01-02            0\n",
        "2  2013-01-03            5\n",
        "3  2013-01-04            7\n",
        "4  2013-01-05            3"
       ]
      }
     ],
     "prompt_number": 14
    },
    {
     "cell_type": "code",
     "collapsed": false,
     "input": [
      "type(data.iloc[0,0])"
     ],
     "language": "python",
     "metadata": {},
     "outputs": [
      {
       "metadata": {},
       "output_type": "pyout",
       "prompt_number": 15,
       "text": [
        "datetime.date"
       ]
      }
     ],
     "prompt_number": 15
    },
    {
     "cell_type": "heading",
     "level": 3,
     "metadata": {},
     "source": [
      "2. Converting a datetime object to a string"
     ]
    },
    {
     "cell_type": "markdown",
     "metadata": {},
     "source": [
      "Now that our dates are properly transformed our strings into date objects we can manipulate these dates as much as we want. One thing that is often required to change the format of the date. Python has another method called ***strftime(format)*** (yes with an f) that does the opposite of the ***strptime()*** method by converting a datetime object into a string. Let's see how we can convert our dates with the **strftime()** method. "
     ]
    },
    {
     "cell_type": "heading",
     "level": 4,
     "metadata": {},
     "source": [
      "* Long Date"
     ]
    },
    {
     "cell_type": "code",
     "collapsed": false,
     "input": [
      "# We want to have the complete date - See the new column \"Long date\" for the result\n",
      "data['Long Date'] = data['date'].map(lambda x: x.strftime('%A, %B %d, %Y'))\n",
      "data.head()"
     ],
     "language": "python",
     "metadata": {},
     "outputs": [
      {
       "html": [
        "<div style=\"max-height:1000px;max-width:1500px;overflow:auto;\">\n",
        "<table border=\"1\" class=\"dataframe\">\n",
        "  <thead>\n",
        "    <tr style=\"text-align: right;\">\n",
        "      <th></th>\n",
        "      <th>date</th>\n",
        "      <th>temperature</th>\n",
        "      <th>Long Date</th>\n",
        "    </tr>\n",
        "  </thead>\n",
        "  <tbody>\n",
        "    <tr>\n",
        "      <th>0</th>\n",
        "      <td> 2013-01-01</td>\n",
        "      <td> 4</td>\n",
        "      <td>   Tuesday, January 01, 2013</td>\n",
        "    </tr>\n",
        "    <tr>\n",
        "      <th>1</th>\n",
        "      <td> 2013-01-02</td>\n",
        "      <td> 0</td>\n",
        "      <td> Wednesday, January 02, 2013</td>\n",
        "    </tr>\n",
        "    <tr>\n",
        "      <th>2</th>\n",
        "      <td> 2013-01-03</td>\n",
        "      <td> 5</td>\n",
        "      <td>  Thursday, January 03, 2013</td>\n",
        "    </tr>\n",
        "    <tr>\n",
        "      <th>3</th>\n",
        "      <td> 2013-01-04</td>\n",
        "      <td> 7</td>\n",
        "      <td>    Friday, January 04, 2013</td>\n",
        "    </tr>\n",
        "    <tr>\n",
        "      <th>4</th>\n",
        "      <td> 2013-01-05</td>\n",
        "      <td> 3</td>\n",
        "      <td>  Saturday, January 05, 2013</td>\n",
        "    </tr>\n",
        "  </tbody>\n",
        "</table>\n",
        "</div>"
       ],
       "metadata": {},
       "output_type": "pyout",
       "prompt_number": 16,
       "text": [
        "         date  temperature                    Long Date\n",
        "0  2013-01-01            4    Tuesday, January 01, 2013\n",
        "1  2013-01-02            0  Wednesday, January 02, 2013\n",
        "2  2013-01-03            5   Thursday, January 03, 2013\n",
        "3  2013-01-04            7     Friday, January 04, 2013\n",
        "4  2013-01-05            3   Saturday, January 05, 2013"
       ]
      }
     ],
     "prompt_number": 16
    },
    {
     "cell_type": "heading",
     "level": 4,
     "metadata": {},
     "source": [
      "* Short Date"
     ]
    },
    {
     "cell_type": "code",
     "collapsed": false,
     "input": [
      "# Now we want to just see a short date - see the \"Short date\" column\n",
      "data['Short Date'] = data['date'].map(lambda x: x.strftime('%b %d, %Y'))\n",
      "data.head()"
     ],
     "language": "python",
     "metadata": {},
     "outputs": [
      {
       "html": [
        "<div style=\"max-height:1000px;max-width:1500px;overflow:auto;\">\n",
        "<table border=\"1\" class=\"dataframe\">\n",
        "  <thead>\n",
        "    <tr style=\"text-align: right;\">\n",
        "      <th></th>\n",
        "      <th>date</th>\n",
        "      <th>temperature</th>\n",
        "      <th>Long Date</th>\n",
        "      <th>Short Date</th>\n",
        "    </tr>\n",
        "  </thead>\n",
        "  <tbody>\n",
        "    <tr>\n",
        "      <th>0</th>\n",
        "      <td> 2013-01-01</td>\n",
        "      <td> 4</td>\n",
        "      <td>   Tuesday, January 01, 2013</td>\n",
        "      <td> Jan 01, 2013</td>\n",
        "    </tr>\n",
        "    <tr>\n",
        "      <th>1</th>\n",
        "      <td> 2013-01-02</td>\n",
        "      <td> 0</td>\n",
        "      <td> Wednesday, January 02, 2013</td>\n",
        "      <td> Jan 02, 2013</td>\n",
        "    </tr>\n",
        "    <tr>\n",
        "      <th>2</th>\n",
        "      <td> 2013-01-03</td>\n",
        "      <td> 5</td>\n",
        "      <td>  Thursday, January 03, 2013</td>\n",
        "      <td> Jan 03, 2013</td>\n",
        "    </tr>\n",
        "    <tr>\n",
        "      <th>3</th>\n",
        "      <td> 2013-01-04</td>\n",
        "      <td> 7</td>\n",
        "      <td>    Friday, January 04, 2013</td>\n",
        "      <td> Jan 04, 2013</td>\n",
        "    </tr>\n",
        "    <tr>\n",
        "      <th>4</th>\n",
        "      <td> 2013-01-05</td>\n",
        "      <td> 3</td>\n",
        "      <td>  Saturday, January 05, 2013</td>\n",
        "      <td> Jan 05, 2013</td>\n",
        "    </tr>\n",
        "  </tbody>\n",
        "</table>\n",
        "</div>"
       ],
       "metadata": {},
       "output_type": "pyout",
       "prompt_number": 46,
       "text": [
        "         date  temperature                    Long Date    Short Date\n",
        "0  2013-01-01            4    Tuesday, January 01, 2013  Jan 01, 2013\n",
        "1  2013-01-02            0  Wednesday, January 02, 2013  Jan 02, 2013\n",
        "2  2013-01-03            5   Thursday, January 03, 2013  Jan 03, 2013\n",
        "3  2013-01-04            7     Friday, January 04, 2013  Jan 04, 2013\n",
        "4  2013-01-05            3   Saturday, January 05, 2013  Jan 05, 2013"
       ]
      }
     ],
     "prompt_number": 46
    },
    {
     "cell_type": "heading",
     "level": 4,
     "metadata": {},
     "source": [
      "* Weekday"
     ]
    },
    {
     "cell_type": "markdown",
     "metadata": {},
     "source": [
      "Sometimes you may want to analyze the difference between days of the week. Maybe for instance you want to know if there is more traffic on Mondays than on Sundays. One cool trick is to convert the dates into their corresponding weekdays. "
     ]
    },
    {
     "cell_type": "code",
     "collapsed": false,
     "input": [
      "# Add the weekday column to our dataframe\n",
      "data['weekday'] = data['date'].map(lambda x: x.strftime('%A'))\n",
      "data.head()"
     ],
     "language": "python",
     "metadata": {},
     "outputs": [
      {
       "html": [
        "<div style=\"max-height:1000px;max-width:1500px;overflow:auto;\">\n",
        "<table border=\"1\" class=\"dataframe\">\n",
        "  <thead>\n",
        "    <tr style=\"text-align: right;\">\n",
        "      <th></th>\n",
        "      <th>date</th>\n",
        "      <th>temperature</th>\n",
        "      <th>Long Date</th>\n",
        "      <th>Short Date</th>\n",
        "      <th>weekday</th>\n",
        "    </tr>\n",
        "  </thead>\n",
        "  <tbody>\n",
        "    <tr>\n",
        "      <th>0</th>\n",
        "      <td> 2013-01-01</td>\n",
        "      <td> 4</td>\n",
        "      <td>   Tuesday, January 01, 2013</td>\n",
        "      <td> Jan 01, 2013</td>\n",
        "      <td>   Tuesday</td>\n",
        "    </tr>\n",
        "    <tr>\n",
        "      <th>1</th>\n",
        "      <td> 2013-01-02</td>\n",
        "      <td> 0</td>\n",
        "      <td> Wednesday, January 02, 2013</td>\n",
        "      <td> Jan 02, 2013</td>\n",
        "      <td> Wednesday</td>\n",
        "    </tr>\n",
        "    <tr>\n",
        "      <th>2</th>\n",
        "      <td> 2013-01-03</td>\n",
        "      <td> 5</td>\n",
        "      <td>  Thursday, January 03, 2013</td>\n",
        "      <td> Jan 03, 2013</td>\n",
        "      <td>  Thursday</td>\n",
        "    </tr>\n",
        "    <tr>\n",
        "      <th>3</th>\n",
        "      <td> 2013-01-04</td>\n",
        "      <td> 7</td>\n",
        "      <td>    Friday, January 04, 2013</td>\n",
        "      <td> Jan 04, 2013</td>\n",
        "      <td>    Friday</td>\n",
        "    </tr>\n",
        "    <tr>\n",
        "      <th>4</th>\n",
        "      <td> 2013-01-05</td>\n",
        "      <td> 3</td>\n",
        "      <td>  Saturday, January 05, 2013</td>\n",
        "      <td> Jan 05, 2013</td>\n",
        "      <td>  Saturday</td>\n",
        "    </tr>\n",
        "  </tbody>\n",
        "</table>\n",
        "</div>"
       ],
       "metadata": {},
       "output_type": "pyout",
       "prompt_number": 47,
       "text": [
        "         date  temperature                    Long Date    Short Date    weekday\n",
        "0  2013-01-01            4    Tuesday, January 01, 2013  Jan 01, 2013    Tuesday\n",
        "1  2013-01-02            0  Wednesday, January 02, 2013  Jan 02, 2013  Wednesday\n",
        "2  2013-01-03            5   Thursday, January 03, 2013  Jan 03, 2013   Thursday\n",
        "3  2013-01-04            7     Friday, January 04, 2013  Jan 04, 2013     Friday\n",
        "4  2013-01-05            3   Saturday, January 05, 2013  Jan 05, 2013   Saturday"
       ]
      }
     ],
     "prompt_number": 47
    },
    {
     "cell_type": "heading",
     "level": 4,
     "metadata": {},
     "source": [
      "* Month"
     ]
    },
    {
     "cell_type": "markdown",
     "metadata": {},
     "source": [
      "Similar to the weekday, you can now analyze the time series by looking at the difference between months."
     ]
    },
    {
     "cell_type": "code",
     "collapsed": false,
     "input": [
      "# Add the month column to our dataframe\n",
      "data['month'] = data['date'].map(lambda x: x.strftime('%B'))\n",
      "data.head()"
     ],
     "language": "python",
     "metadata": {},
     "outputs": [
      {
       "html": [
        "<div style=\"max-height:1000px;max-width:1500px;overflow:auto;\">\n",
        "<table border=\"1\" class=\"dataframe\">\n",
        "  <thead>\n",
        "    <tr style=\"text-align: right;\">\n",
        "      <th></th>\n",
        "      <th>date</th>\n",
        "      <th>temperature</th>\n",
        "      <th>Long Date</th>\n",
        "      <th>Short Date</th>\n",
        "      <th>weekday</th>\n",
        "      <th>month</th>\n",
        "    </tr>\n",
        "  </thead>\n",
        "  <tbody>\n",
        "    <tr>\n",
        "      <th>0</th>\n",
        "      <td> 2013-01-01</td>\n",
        "      <td> 4</td>\n",
        "      <td>   Tuesday, January 01, 2013</td>\n",
        "      <td> Jan 01, 2013</td>\n",
        "      <td>   Tuesday</td>\n",
        "      <td> January</td>\n",
        "    </tr>\n",
        "    <tr>\n",
        "      <th>1</th>\n",
        "      <td> 2013-01-02</td>\n",
        "      <td> 0</td>\n",
        "      <td> Wednesday, January 02, 2013</td>\n",
        "      <td> Jan 02, 2013</td>\n",
        "      <td> Wednesday</td>\n",
        "      <td> January</td>\n",
        "    </tr>\n",
        "    <tr>\n",
        "      <th>2</th>\n",
        "      <td> 2013-01-03</td>\n",
        "      <td> 5</td>\n",
        "      <td>  Thursday, January 03, 2013</td>\n",
        "      <td> Jan 03, 2013</td>\n",
        "      <td>  Thursday</td>\n",
        "      <td> January</td>\n",
        "    </tr>\n",
        "    <tr>\n",
        "      <th>3</th>\n",
        "      <td> 2013-01-04</td>\n",
        "      <td> 7</td>\n",
        "      <td>    Friday, January 04, 2013</td>\n",
        "      <td> Jan 04, 2013</td>\n",
        "      <td>    Friday</td>\n",
        "      <td> January</td>\n",
        "    </tr>\n",
        "    <tr>\n",
        "      <th>4</th>\n",
        "      <td> 2013-01-05</td>\n",
        "      <td> 3</td>\n",
        "      <td>  Saturday, January 05, 2013</td>\n",
        "      <td> Jan 05, 2013</td>\n",
        "      <td>  Saturday</td>\n",
        "      <td> January</td>\n",
        "    </tr>\n",
        "  </tbody>\n",
        "</table>\n",
        "</div>"
       ],
       "metadata": {},
       "output_type": "pyout",
       "prompt_number": 48,
       "text": [
        "         date  temperature                    Long Date    Short Date  \\\n",
        "0  2013-01-01            4    Tuesday, January 01, 2013  Jan 01, 2013   \n",
        "1  2013-01-02            0  Wednesday, January 02, 2013  Jan 02, 2013   \n",
        "2  2013-01-03            5   Thursday, January 03, 2013  Jan 03, 2013   \n",
        "3  2013-01-04            7     Friday, January 04, 2013  Jan 04, 2013   \n",
        "4  2013-01-05            3   Saturday, January 05, 2013  Jan 05, 2013   \n",
        "\n",
        "     weekday    month  \n",
        "0    Tuesday  January  \n",
        "1  Wednesday  January  \n",
        "2   Thursday  January  \n",
        "3     Friday  January  \n",
        "4   Saturday  January  "
       ]
      }
     ],
     "prompt_number": 48
    },
    {
     "cell_type": "heading",
     "level": 4,
     "metadata": {},
     "source": [
      "* Other format examples"
     ]
    },
    {
     "cell_type": "markdown",
     "metadata": {},
     "source": [
      "The configurations are endless, here are some other examples of format that you may want to use. \n",
      "\n",
      "* **%B %d, %Y** => February 10, 2014\n",
      "* **%b %d, %Y** => Feb 10, 2014\n",
      "* **%m/%d/%y** => 2/10/14\n",
      "* **%d-%m-%Y** => 10-02-2014\n",
      "* **%Y-%m-%d** => 2014-02-10\n",
      "* **%f** => 1380213810\n"
     ]
    },
    {
     "cell_type": "heading",
     "level": 2,
     "metadata": {},
     "source": [
      "Pandas:"
     ]
    },
    {
     "cell_type": "markdown",
     "metadata": {},
     "source": [
      "Pandas is also extremely powerful with time series and you can use it to easily convert, generate and index dates. \n",
      "One difference to have in mind when using Pandas is the one between a **timestamp** and a **time span**. A **timestamp** refers to a specific point in time while a **time span** is a period. Let's explore this difference in more details.  "
     ]
    },
    {
     "cell_type": "heading",
     "level": 3,
     "metadata": {},
     "source": [
      "1. Timestamps"
     ]
    },
    {
     "cell_type": "code",
     "collapsed": false,
     "input": [
      "# Create a timestamp using Timestamp\n",
      "timestamps = pd.Timestamp('2014-01-01')\n",
      "\n",
      "print timestamps"
     ],
     "language": "python",
     "metadata": {},
     "outputs": [
      {
       "output_type": "stream",
       "stream": "stdout",
       "text": [
        "2014-01-01 00:00:00\n"
       ]
      }
     ],
     "prompt_number": 33
    },
    {
     "cell_type": "heading",
     "level": 3,
     "metadata": {},
     "source": [
      "2. Time spans"
     ]
    },
    {
     "cell_type": "markdown",
     "metadata": {},
     "source": [
      "With time spans you can create any type of period: Hour, Day, Week, Month, Quarter..."
     ]
    },
    {
     "cell_type": "code",
     "collapsed": false,
     "input": [
      "# An hour\n",
      "hour = pd.Period('2014-01', freq='H')\n",
      "print hour"
     ],
     "language": "python",
     "metadata": {},
     "outputs": [
      {
       "output_type": "stream",
       "stream": "stdout",
       "text": [
        "2014-01-01 00:00\n"
       ]
      }
     ],
     "prompt_number": 24
    },
    {
     "cell_type": "code",
     "collapsed": false,
     "input": [
      "# A week\n",
      "week = pd.Period('2014-01', freq='W')\n",
      "print week"
     ],
     "language": "python",
     "metadata": {},
     "outputs": [
      {
       "output_type": "stream",
       "stream": "stdout",
       "text": [
        "2013-12-30/2014-01-05\n"
       ]
      }
     ],
     "prompt_number": 25
    },
    {
     "cell_type": "code",
     "collapsed": false,
     "input": [
      "# A month\n",
      "month = pd.Period('2014-01', freq='M')\n",
      "print month"
     ],
     "language": "python",
     "metadata": {},
     "outputs": [
      {
       "output_type": "stream",
       "stream": "stdout",
       "text": [
        "2014-01\n"
       ]
      }
     ],
     "prompt_number": 27
    },
    {
     "cell_type": "code",
     "collapsed": false,
     "input": [
      "# A quarter\n",
      "quarter = pd.Period('2014-01', freq='Q')\n",
      "print quarter"
     ],
     "language": "python",
     "metadata": {},
     "outputs": [
      {
       "output_type": "stream",
       "stream": "stdout",
       "text": [
        "2014Q1\n"
       ]
      }
     ],
     "prompt_number": 29
    },
    {
     "cell_type": "heading",
     "level": 3,
     "metadata": {},
     "source": [
      "3. Converting dates"
     ]
    },
    {
     "cell_type": "markdown",
     "metadata": {},
     "source": [
      "With Pandas you can also convert strings into dates using the ***to_datetime()*** method. Let's try with our dataset."
     ]
    },
    {
     "cell_type": "code",
     "collapsed": false,
     "input": [
      "# Converting dates to timestamps\n",
      "timestamp = pd.to_datetime(data['date'])\n",
      "print timestamp"
     ],
     "language": "python",
     "metadata": {},
     "outputs": [
      {
       "output_type": "stream",
       "stream": "stdout",
       "text": [
        "0   2013-01-01 00:00:00\n",
        "1   2013-01-02 00:00:00\n",
        "2   2013-01-03 00:00:00\n",
        "3   2013-01-04 00:00:00\n",
        "4   2013-01-05 00:00:00\n",
        "5   2013-01-06 00:00:00\n",
        "6   2013-01-07 00:00:00\n",
        "7   2013-01-08 00:00:00\n",
        "8   2013-01-09 00:00:00\n",
        "9   2013-01-10 00:00:00\n",
        "Name: date, dtype: datetime64[ns]\n"
       ]
      }
     ],
     "prompt_number": 59
    },
    {
     "cell_type": "heading",
     "level": 3,
     "metadata": {},
     "source": [
      "4. Indexing dates from converted data"
     ]
    },
    {
     "cell_type": "markdown",
     "metadata": {},
     "source": [
      "You might want to you use the dates as index for your dataframe but if you look at the cell above, converting the dates with **to_datetime()** will not do this automatically. To use the dates as index, you will need one extra step. You can either use the **DateTimeIndex()** - for timestamps - or **PeriodIndex()** method - for time spans. "
     ]
    },
    {
     "cell_type": "code",
     "collapsed": false,
     "input": [
      "# Array of timestamps used as index\n",
      "date_index = pd.DatetimeIndex(timestamp, freq='D')\n",
      "\n",
      "print date_index\n",
      "\n",
      "# Array of periods used as index\n",
      "period_index = pd.PeriodIndex(timestamp, freq= 'D') \n",
      "\n",
      "print period_index"
     ],
     "language": "python",
     "metadata": {},
     "outputs": [
      {
       "output_type": "stream",
       "stream": "stdout",
       "text": [
        "<class 'pandas.tseries.index.DatetimeIndex'>\n",
        "[2013-01-01 00:00:00, ..., 2013-01-10 00:00:00]\n",
        "Length: 10, Freq: D, Timezone: None\n",
        "PeriodIndex([u'2013-01-01', u'2013-01-02', u'2013-01-03', u'2013-01-04', u'2013-01-05', u'2013-01-06', u'2013-01-07', u'2013-01-08', u'2013-01-09', u'2013-01-10'], freq='D')\n"
       ]
      }
     ],
     "prompt_number": 64
    },
    {
     "cell_type": "markdown",
     "metadata": {},
     "source": [
      "Please note that the offset aliases are different between Python and Pandas. To see the complete list of aliases please check the following [link](http://pandas.pydata.org/pandas-docs/dev/timeseries.html#offset-aliases)"
     ]
    },
    {
     "cell_type": "heading",
     "level": 3,
     "metadata": {},
     "source": [
      "5. Generating data"
     ]
    },
    {
     "cell_type": "markdown",
     "metadata": {},
     "source": [
      "Until now we have worked with dates extracted from a csv file but what if we want to generate a new time series? Pandas has of course some handful tools for this too. Use the method **date_range()**. With this method you can either specify the start date and the number of periods you need or specify both the start and the end dates. Both methods are presented in the cell below. "
     ]
    },
    {
     "cell_type": "code",
     "collapsed": false,
     "input": [
      "# You specify the number of periods - here 24 months\n",
      "rng = pd.date_range('1/1/2014', periods=24, freq='M')\n",
      "\n",
      "# You can also specify the begining and the end of your data series\n",
      "start = '1/1/2013'\n",
      "end = '1/1/2014'\n",
      "\n",
      "rng = pd.date_range(start, end, freq='M')"
     ],
     "language": "python",
     "metadata": {},
     "outputs": [],
     "prompt_number": 36
    },
    {
     "cell_type": "heading",
     "level": 3,
     "metadata": {},
     "source": [
      "6. Indexing dates from generated data"
     ]
    },
    {
     "cell_type": "markdown",
     "metadata": {},
     "source": [
      "If you want to generate a time series of random values and use your dates as index, follow these 2 steps:"
     ]
    },
    {
     "cell_type": "code",
     "collapsed": false,
     "input": [
      "rng = pd.date_range('1/1/2014', periods=24, freq='M')\n",
      "\n",
      "ts = pd.Series(np.random.randn(len(rng)), index=rng)\n",
      "\n",
      "ts.head()"
     ],
     "language": "python",
     "metadata": {},
     "outputs": [
      {
       "metadata": {},
       "output_type": "pyout",
       "prompt_number": 3,
       "text": [
        "2014-01-31    0.245097\n",
        "2014-02-28   -0.402680\n",
        "2014-03-31   -0.824059\n",
        "2014-04-30   -0.746537\n",
        "2014-05-31    0.823781\n",
        "Freq: M, dtype: float64"
       ]
      }
     ],
     "prompt_number": 3
    },
    {
     "cell_type": "heading",
     "level": 3,
     "metadata": {},
     "source": [
      "7. Selecting data with dates"
     ]
    },
    {
     "cell_type": "markdown",
     "metadata": {},
     "source": [
      "Now that you have generated your time series, you want to select only the first 3 months or the last 3. For this you can use **first(period)** or **last(period)** methods. Between the brackets, you specify the number of periods that you want and the type of periods (hour, week, month,...)."
     ]
    },
    {
     "cell_type": "code",
     "collapsed": false,
     "input": [
      "#We want to select the 5 first months\n",
      "ts.first('5M')"
     ],
     "language": "python",
     "metadata": {},
     "outputs": [
      {
       "metadata": {},
       "output_type": "pyout",
       "prompt_number": 8,
       "text": [
        "2014-01-31    0.245097\n",
        "2014-02-28   -0.402680\n",
        "2014-03-31   -0.824059\n",
        "2014-04-30   -0.746537\n",
        "2014-05-31    0.823781\n",
        "2014-06-30    1.681618\n",
        "Freq: M, dtype: float64"
       ]
      }
     ],
     "prompt_number": 8
    },
    {
     "cell_type": "code",
     "collapsed": false,
     "input": [
      "# Select the last 3 months\n",
      "ts.last('3M')"
     ],
     "language": "python",
     "metadata": {},
     "outputs": [
      {
       "metadata": {},
       "output_type": "pyout",
       "prompt_number": 9,
       "text": [
        "2015-10-31    0.257090\n",
        "2015-11-30   -0.360173\n",
        "2015-12-31   -0.549250\n",
        "Freq: M, dtype: float64"
       ]
      }
     ],
     "prompt_number": 9
    },
    {
     "cell_type": "markdown",
     "metadata": {},
     "source": [
      "You can also select specific period of time from your time series. For this I would recommend to use a mask."
     ]
    },
    {
     "cell_type": "code",
     "collapsed": false,
     "input": [
      "# Selecting the data from january only\n",
      "mask = (ts.index.month ==1)\n",
      "\n",
      "january_data = ts[mask]\n",
      "\n",
      "january_data"
     ],
     "language": "python",
     "metadata": {},
     "outputs": [
      {
       "metadata": {},
       "output_type": "pyout",
       "prompt_number": 6,
       "text": [
        "2014-01-31    0.245097\n",
        "2015-01-31    1.203963\n",
        "dtype: float64"
       ]
      }
     ],
     "prompt_number": 6
    },
    {
     "cell_type": "code",
     "collapsed": false,
     "input": [
      "# Selecting the data from the first quarter\n",
      "mask = (ts.index.month >= 1) & (ts.index.month <=3)\n",
      "\n",
      "first_quarter_data = ts[mask]\n",
      "\n",
      "first_quarter_data"
     ],
     "language": "python",
     "metadata": {},
     "outputs": [
      {
       "metadata": {},
       "output_type": "pyout",
       "prompt_number": 7,
       "text": [
        "2014-01-31    0.245097\n",
        "2014-02-28   -0.402680\n",
        "2014-03-31   -0.824059\n",
        "2015-01-31    1.203963\n",
        "2015-02-28   -0.220109\n",
        "2015-03-31   -0.490754\n",
        "dtype: float64"
       ]
      }
     ],
     "prompt_number": 7
    },
    {
     "cell_type": "code",
     "collapsed": false,
     "input": [
      "from IPython.core.display import HTML\n",
      "def css_styling():\n",
      "    styles = open(\"styles/custom.css\", \"r\").read()\n",
      "    return HTML(styles)\n",
      "css_styling()"
     ],
     "language": "python",
     "metadata": {},
     "outputs": [
      {
       "html": [
        "<style>\n",
        "    @font-face {\n",
        "        /*font-family: \"Computer Modern\";\n",
        "        src: url('http://mirrors.ctan.org/fonts/cm-unicode/fonts/otf/cmunss.otf');*/\n",
        "        font-family: \"Source Sans Pro\";\n",
        "        src: url('http://get-software.net/fonts/sourcesanspro/fonts/SourceSansPro-Regular.otf');\n",
        "    }\n",
        "    div.cell{\n",
        "        width:800px;\n",
        "        margin-left:16% !important;\n",
        "        margin-right:auto;\n",
        "    }\n",
        "    h1 {\n",
        "        font-family: Helvetica, serif;\n",
        "    }\n",
        "    h4{\n",
        "        margin-top:12px;\n",
        "        margin-bottom: 3px;\n",
        "       }\n",
        "    div.text_cell_render{\n",
        "        /*font-family: Computer Modern, \"Helvetica Neue\", Arial, Helvetica, Geneva, sans-serif;*/\n",
        "        font-family: Source Sans Pro, \"Helvetica Neue\", Arial, Helvetica, Geneva, sans-serif;\n",
        "        line-height: 145%;\n",
        "        font-size: 120%;\n",
        "        width:800px;\n",
        "        margin-left:auto;\n",
        "        margin-right:auto;\n",
        "    }\n",
        "    .CodeMirror{\n",
        "            font-family: \"Source Code Pro\", source-code-pro,Consolas, monospace;\n",
        "    }\n",
        "    .prompt{\n",
        "        display: None;\n",
        "    }\n",
        "    .text_cell_render h5 {\n",
        "        font-weight: 300;\n",
        "        font-size: 22pt;\n",
        "        color: #4057A1;\n",
        "        font-style: italic;\n",
        "        margin-bottom: .5em;\n",
        "        margin-top: 0.5em;\n",
        "        display: block;\n",
        "    }\n",
        "    \n",
        "    .warning{\n",
        "        color: rgb( 240, 20, 20 )\n",
        "        }  \n",
        "</style>\n",
        "<script>\n",
        "    MathJax.Hub.Config({\n",
        "                        TeX: {\n",
        "                           extensions: [\"AMSmath.js\"]\n",
        "                           },\n",
        "                tex2jax: {\n",
        "                    inlineMath: [ ['$','$'], [\"\\\\(\",\"\\\\)\"] ],\n",
        "                    displayMath: [ ['$$','$$'], [\"\\\\[\",\"\\\\]\"] ]\n",
        "                },\n",
        "                displayAlign: 'center', // Change this to 'center' to center equations.\n",
        "                \"HTML-CSS\": {\n",
        "                    styles: {'.MathJax_Display': {\"margin\": 4}}\n",
        "                }\n",
        "        });\n",
        "</script>"
       ],
       "metadata": {},
       "output_type": "pyout",
       "prompt_number": 8,
       "text": [
        "<IPython.core.display.HTML at 0x110e70950>"
       ]
      }
     ],
     "prompt_number": 8
    }
   ],
   "metadata": {}
  }
 ]
}